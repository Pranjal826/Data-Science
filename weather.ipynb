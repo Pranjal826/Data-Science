{
 "cells": [
  {
   "cell_type": "code",
   "execution_count": 9,
   "metadata": {},
   "outputs": [
    {
     "data": {
      "text/plain": [
       "array(['Yes'], dtype='<U3')"
      ]
     },
     "execution_count": 9,
     "metadata": {},
     "output_type": "execute_result"
    }
   ],
   "source": [
    "from sklearn import tree\n",
    "from sklearn.preprocessing import OneHotEncoder\n",
    "import matplotlib.pyplot as plt\n",
    "# Weather conditions data\n",
    "weather = [\n",
    "    ['Sunny', 'Hot', 'High', 'Weak'],\n",
    "    ['Sunny', 'Hot', 'High', 'Strong'],\n",
    "    ['Overcast', 'Hot', 'High', 'Weak'],\n",
    "    ['Rainy', 'Mild', 'High', 'Weak'],\n",
    "    ['Rainy', 'Cool', 'Normal', 'Weak'],\n",
    "    ['Rainy', 'Cool', 'Normal', 'Strong'],\n",
    "    ['Overcast', 'Cool', 'Normal', 'Strong'],\n",
    "    ['Sunny', 'Mild', 'High', 'Weak'],\n",
    "    ['Sunny', 'Cool', 'Normal', 'Weak'],\n",
    "    ['Rainy', 'Mild', 'Normal', 'Weak'],\n",
    "    ['Sunny', 'Mild', 'Normal', 'Strong'],\n",
    "    ['Overcast', 'Mild', 'High', 'Strong'],\n",
    "    ['Overcast', 'Hot', 'Normal', 'Weak'],\n",
    "    [\"Rainy\", \"Mild\", \"High\",\"Strong\"]\n",
    "]\n",
    "\n",
    "# Corresponding labels whether to play tennis or not\n",
    "labels = ['No', 'No', 'Yes', 'Yes', 'Yes', 'No', 'Yes', 'No', 'Yes', 'Yes', 'Yes', 'Yes', 'Yes', 'No']\n",
    "encoder = OneHotEncoder(handle_unknown='ignore')\n",
    "weather_encoded = encoder.fit_transform(weather,labels)\n",
    "clf = tree.DecisionTreeClassifier()\n",
    "clf = clf.fit(weather_encoded,labels)\n",
    "new_condition = [[\"Overcast\", \"Hot\", \"High\",\"Weak\"]]\n",
    "new_condition_encoded = encoder.transform(new_condition)\n",
    "prediction = clf.predict(new_condition_encoded)\n",
    "\n",
    "prediction"
   ]
  },
  {
   "cell_type": "code",
   "execution_count": 14,
   "metadata": {},
   "outputs": [
    {
     "ename": "TypeError",
     "evalue": "scatter() missing 1 required positional argument: 'y'",
     "output_type": "error",
     "traceback": [
      "\u001b[0;31m---------------------------------------------------------------------------\u001b[0m",
      "\u001b[0;31mTypeError\u001b[0m                                 Traceback (most recent call last)",
      "\u001b[1;32m/Users/pranjalshukla/Data-Science/weather.ipynb Cell 2\u001b[0m line \u001b[0;36m1\n\u001b[0;32m----> <a href='vscode-notebook-cell:/Users/pranjalshukla/Data-Science/weather.ipynb#W1sZmlsZQ%3D%3D?line=0'>1</a>\u001b[0m plt\u001b[39m.\u001b[39;49mscatter(weather)\n",
      "\u001b[0;31mTypeError\u001b[0m: scatter() missing 1 required positional argument: 'y'"
     ]
    }
   ],
   "source": [
    "plt.scatter()"
   ]
  }
 ],
 "metadata": {
  "kernelspec": {
   "display_name": "Python 3",
   "language": "python",
   "name": "python3"
  },
  "language_info": {
   "codemirror_mode": {
    "name": "ipython",
    "version": 3
   },
   "file_extension": ".py",
   "mimetype": "text/x-python",
   "name": "python",
   "nbconvert_exporter": "python",
   "pygments_lexer": "ipython3",
   "version": "3.9.6"
  }
 },
 "nbformat": 4,
 "nbformat_minor": 2
}
