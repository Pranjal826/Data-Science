{
 "cells": [
  {
   "cell_type": "code",
   "execution_count": 1,
   "metadata": {},
   "outputs": [
    {
     "ename": "AttributeError",
     "evalue": "module 'numbers' has no attribute 'percentile'",
     "output_type": "error",
     "traceback": [
      "\u001b[0;31m---------------------------------------------------------------------------\u001b[0m",
      "\u001b[0;31mAttributeError\u001b[0m                            Traceback (most recent call last)",
      "\u001b[1;32m/Users/pranjalshukla/Data-Science/data.ipynb Cell 1\u001b[0m line \u001b[0;36m7\n\u001b[1;32m      <a href='vscode-notebook-cell:/Users/pranjalshukla/Data-Science/data.ipynb#W0sZmlsZQ%3D%3D?line=4'>5</a>\u001b[0m \u001b[39mimport\u001b[39;00m \u001b[39mstatistics\u001b[39;00m\n\u001b[1;32m      <a href='vscode-notebook-cell:/Users/pranjalshukla/Data-Science/data.ipynb#W0sZmlsZQ%3D%3D?line=5'>6</a>\u001b[0m df\u001b[39m=\u001b[39m[\u001b[39m11\u001b[39m,\u001b[39m10\u001b[39m,\u001b[39m12\u001b[39m,\u001b[39m14\u001b[39m,\u001b[39m12\u001b[39m, \u001b[39m15\u001b[39m, \u001b[39m14\u001b[39m, \u001b[39m13\u001b[39m, \u001b[39m15\u001b[39m, \u001b[39m102\u001b[39m, \u001b[39m12\u001b[39m, \u001b[39m14\u001b[39m,\u001b[39m17\u001b[39m,\u001b[39m19\u001b[39m,\u001b[39m107\u001b[39m, \u001b[39m10\u001b[39m,\u001b[39m13\u001b[39m,\u001b[39m12\u001b[39m, \u001b[39m14\u001b[39m,\u001b[39m12\u001b[39m,\u001b[39m108\u001b[39m, \u001b[39m12\u001b[39m,\u001b[39m11\u001b[39m,\u001b[39m14\u001b[39m,\u001b[39m13\u001b[39m,\u001b[39m15\u001b[39m,\u001b[39m10\u001b[39m,\u001b[39m15\u001b[39m,\u001b[39m12\u001b[39m,\u001b[39m10\u001b[39m, \u001b[39m14\u001b[39m, \u001b[39m13\u001b[39m, \u001b[39m15\u001b[39m, \u001b[39m10\u001b[39m]\n\u001b[0;32m----> <a href='vscode-notebook-cell:/Users/pranjalshukla/Data-Science/data.ipynb#W0sZmlsZQ%3D%3D?line=6'>7</a>\u001b[0m q1\u001b[39m=\u001b[39mnp\u001b[39m.\u001b[39;49mpercentile(df,\u001b[39m25\u001b[39m)\n",
      "\u001b[0;31mAttributeError\u001b[0m: module 'numbers' has no attribute 'percentile'"
     ]
    }
   ],
   "source": [
    "import pandas as pd\n",
    "import numbers as np\n",
    "import seaborn as sns\n",
    "import matplotlib as mt\n",
    "import statistics\n",
    "df=[11,10,12,14,12, 15, 14, 13, 15, 102, 12, 14,17,19,107, 10,13,12, 14,12,108, 12,11,14,13,15,10,15,12,10, 14, 13, 15, 10]\n",
    "q1=np.percentile(df,25)\n"
   ]
  }
 ],
 "metadata": {
  "kernelspec": {
   "display_name": "Python 3",
   "language": "python",
   "name": "python3"
  },
  "language_info": {
   "codemirror_mode": {
    "name": "ipython",
    "version": 3
   },
   "file_extension": ".py",
   "mimetype": "text/x-python",
   "name": "python",
   "nbconvert_exporter": "python",
   "pygments_lexer": "ipython3",
   "version": "3.9.6"
  }
 },
 "nbformat": 4,
 "nbformat_minor": 2
}
